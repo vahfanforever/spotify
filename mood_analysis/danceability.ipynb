{
 "cells": [
  {
   "cell_type": "code",
   "execution_count": null,
   "metadata": {},
   "outputs": [],
   "source": [
    "import webbrowser\n",
    "from spotifyconnector.spotify_api import get_spotify_oauth\n",
    "\n",
    "auth = get_spotify_oauth(\"credentials.json\", \"user-modify-playback-state user-read-playback-state user-read-recently-played\")\n",
    "auth_url = auth.get_authorize_url()\n",
    "webbrowser.open(auth_url)"
   ]
  },
  {
   "cell_type": "code",
   "execution_count": null,
   "metadata": {},
   "outputs": [],
   "source": [
    "from spotipy import Spotify\n",
    "\n",
    "ACCESS_TOKEN = \"\"\n",
    "token_info = auth.get_access_token(ACCESS_TOKEN)\n",
    "access_token = token_info[\"access_token\"]\n",
    "spotify = Spotify(auth=access_token)"
   ]
  },
  {
   "cell_type": "code",
   "execution_count": null,
   "metadata": {},
   "outputs": [],
   "source": [
    "import json\n",
    "\n",
    "recently = spotify.current_user_recently_played(limit=50)\n",
    "json.dump(recently, open(\"recent.json\", \"w\"), indent=4)\n"
   ]
  },
  {
   "cell_type": "code",
   "execution_count": null,
   "metadata": {},
   "outputs": [],
   "source": [
    "summary = {}\n",
    "for song in recently:\n",
    "    track_id = song[\"track\"][\"id\"]\n",
    "    track_name = song[\"track\"][\"name\"]\n",
    "    played_at = song[\"played_at\"]\n",
    "\n",
    "    analysis = spotify.audio_features(track_id)[0]\n",
    "    danceability = analysis[\"danceability\"]\n",
    "    energy = analysis[\"energy\"]\n",
    "    speechiness = analysis[\"speechiness\"]\n",
    "    acousticness = analysis[\"acousticness\"]\n",
    "\n",
    "\n",
    "    summary[track_name] = {\n",
    "        \"track_name\": track_name,\n",
    "        \"played_at\": played_at,\n",
    "        \"danceability\": danceability,\n",
    "        \"energy\": energy,\n",
    "        \"speechiness\": speechiness,\n",
    "        \"acousticness\": acousticness,\n",
    "    }\n",
    "\n",
    "json.dump(summary, open(\"summary.json\", \"w\"), indent=4)"
   ]
  },
  {
   "cell_type": "code",
   "execution_count": null,
   "metadata": {},
   "outputs": [],
   "source": [
    "songs = [song for song, data in summary.items()]\n",
    "danceability = [data[\"danceability\"] for song, data in summary.items()]\n",
    "acousticness = [data[\"acousticness\"] for song, data in summary.items()]"
   ]
  },
  {
   "cell_type": "code",
   "execution_count": null,
   "metadata": {},
   "outputs": [],
   "source": [
    "zipped_lists = zip(danceability, acousticness, songs)\n",
    "differences = [(abs(y1 - y2), x) for y1, y2, x in zipped_lists]\n",
    "differences.sort(reverse=True)\n",
    "sorted_songs = [x for _, x in differences]"
   ]
  },
  {
   "cell_type": "code",
   "execution_count": null,
   "metadata": {},
   "outputs": [],
   "source": [
    "sorted_dance = [summary[song][\"danceability\"] for song in sorted_songs]\n",
    "sorted_acoustic = [summary[song][\"acousticness\"] for song in sorted_songs]"
   ]
  },
  {
   "cell_type": "code",
   "execution_count": null,
   "metadata": {},
   "outputs": [],
   "source": [
    "import matplotlib.pyplot as plt\n",
    "\n",
    "_, ax = plt.subplots()\n",
    "\n",
    "ax.plot(sorted_songs[0:20], sorted_dance[0:20], label=\"danceability\")\n",
    "ax.plot(sorted_songs[0:20], sorted_acoustic[0:20], label=\"acousticness\")\n",
    "ax.legend()\n",
    "ax.grid()\n",
    "ax.xaxis.set_tick_params(rotation=45)\n"
   ]
  }
 ],
 "metadata": {
  "kernelspec": {
   "display_name": "venv",
   "language": "python",
   "name": "python3"
  },
  "language_info": {
   "codemirror_mode": {
    "name": "ipython",
    "version": 3
   },
   "file_extension": ".py",
   "mimetype": "text/x-python",
   "name": "python",
   "nbconvert_exporter": "python",
   "pygments_lexer": "ipython3",
   "version": "3.10.12"
  }
 },
 "nbformat": 4,
 "nbformat_minor": 2
}
